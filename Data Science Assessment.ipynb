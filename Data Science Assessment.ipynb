{
 "cells": [
  {
   "cell_type": "code",
   "execution_count": 1,
   "metadata": {},
   "outputs": [],
   "source": [
    "#Data processing\n",
    "import pandas as pd \n",
    "#Data manipulation\n",
    "import numpy as np \n",
    "from numpy import array\n",
    "\n",
    "#Visualization libraries\n",
    "import matplotlib.pyplot as plt\n",
    "import matplotlib\n",
    "%matplotlib inline\n",
    "import seaborn as sns\n",
    "from wordcloud import WordCloud, STOPWORDS\n",
    "\n",
    "#Spark libraries\n",
    "from pyspark.sql.functions import *\n",
    "from pyspark.sql.types import IntegerType\n",
    "from pyspark.sql import SQLContext\n",
    "\n",
    "#A Machine Learning library\n",
    "import sklearn"
   ]
  },
  {
   "cell_type": "markdown",
   "metadata": {},
   "source": [
    "## 1. Data Acquisition"
   ]
  },
  {
   "cell_type": "code",
   "execution_count": 2,
   "metadata": {},
   "outputs": [],
   "source": [
    "sqlContext = SQLContext(sc)\n",
    "raw_data = sqlContext.read.load('file:///home/cloudera/Documents/PetProject/SourceData/assessment_data.csv', \n",
    "                          format='com.databricks.spark.csv', \n",
    "                            header='true',inferSchema='true') "
   ]
  },
  {
   "cell_type": "code",
   "execution_count": 3,
   "metadata": {},
   "outputs": [
    {
     "name": "stdout",
     "output_type": "stream",
     "text": [
      "Number of rows: 1309\n"
     ]
    }
   ],
   "source": [
    "#Checking if the data loaded successfully and inspecting the total number of rows\n",
    "no_of_rows = raw_data.count()  \n",
    "print('Number of rows:', no_of_rows)"
   ]
  },
  {
   "cell_type": "markdown",
   "metadata": {},
   "source": [
    "The data frame is not empty, since it is able to return row count"
   ]
  },
  {
   "cell_type": "code",
   "execution_count": 4,
   "metadata": {},
   "outputs": [
    {
     "name": "stdout",
     "output_type": "stream",
     "text": [
      "Number of columns: 10\n"
     ]
    }
   ],
   "source": [
    "#Total number of columns\n",
    "no_of_columns = len(raw_data.columns)\n",
    "print('Number of columns:', no_of_columns)"
   ]
  },
  {
   "cell_type": "markdown",
   "metadata": {},
   "source": [
    "## 2. Calculating Memory Requirement"
   ]
  },
  {
   "cell_type": "code",
   "execution_count": 5,
   "metadata": {},
   "outputs": [
    {
     "name": "stdout",
     "output_type": "stream",
     "text": [
      "104720 bytes\n"
     ]
    }
   ],
   "source": [
    "#Calculating total number of bytes required\n",
    "a = no_of_rows * no_of_columns * 8 #1309 Rows * 10 Columns * 8 bytes\n",
    "print(a, 'bytes')"
   ]
  },
  {
   "cell_type": "code",
   "execution_count": 6,
   "metadata": {
    "scrolled": true
   },
   "outputs": [
    {
     "name": "stdout",
     "output_type": "stream",
     "text": [
      "0.0998687744140625 MB\n"
     ]
    }
   ],
   "source": [
    "#Converting bytes to megabytes\n",
    "print (a / 2 ** 20,'MB') #bytes/MB"
   ]
  },
  {
   "cell_type": "markdown",
   "metadata": {},
   "source": [
    "The rule of thumb suggests that we are going to need twice the memory (0.0999 MB *2) to read the dataset. Our machine has 4gb of memory, we are confident that our machine can handle the data load, thus we can proceed with the data exploration"
   ]
  },
  {
   "cell_type": "markdown",
   "metadata": {},
   "source": [
    "## 3. Data Exploration"
   ]
  },
  {
   "cell_type": "code",
   "execution_count": 7,
   "metadata": {},
   "outputs": [
    {
     "name": "stdout",
     "output_type": "stream",
     "text": [
      "root\n",
      " |-- target_var: integer (nullable = true)\n",
      " |-- feature_1: double (nullable = true)\n",
      " |-- feature_2: integer (nullable = true)\n",
      " |-- feature_3: integer (nullable = true)\n",
      " |-- feature_4: string (nullable = true)\n",
      " |-- feature_5: string (nullable = true)\n",
      " |-- feature_6: double (nullable = true)\n",
      " |-- feature_7: integer (nullable = true)\n",
      " |-- feature_8: string (nullable = true)\n",
      " |-- feature_9: double (nullable = true)\n",
      "\n"
     ]
    }
   ],
   "source": [
    "#Print the dataframe schema\n",
    "raw_data.printSchema()"
   ]
  },
  {
   "cell_type": "markdown",
   "metadata": {},
   "source": [
    "The target variable is an integer. None of the columns are empty. We have three data types, integer, double and string"
   ]
  },
  {
   "cell_type": "code",
   "execution_count": 8,
   "metadata": {
    "scrolled": true
   },
   "outputs": [
    {
     "data": {
      "text/html": [
       "<div>\n",
       "<table border=\"1\" class=\"dataframe\">\n",
       "  <thead>\n",
       "    <tr style=\"text-align: right;\">\n",
       "      <th></th>\n",
       "      <th>0</th>\n",
       "      <th>1</th>\n",
       "      <th>2</th>\n",
       "      <th>3</th>\n",
       "      <th>4</th>\n",
       "    </tr>\n",
       "  </thead>\n",
       "  <tbody>\n",
       "    <tr>\n",
       "      <th>summary</th>\n",
       "      <td>count</td>\n",
       "      <td>mean</td>\n",
       "      <td>stddev</td>\n",
       "      <td>min</td>\n",
       "      <td>max</td>\n",
       "    </tr>\n",
       "    <tr>\n",
       "      <th>target_var</th>\n",
       "      <td>1309</td>\n",
       "      <td>0.3819709702062643</td>\n",
       "      <td>0.48605517086648325</td>\n",
       "      <td>0</td>\n",
       "      <td>1</td>\n",
       "    </tr>\n",
       "    <tr>\n",
       "      <th>feature_1</th>\n",
       "      <td>1308</td>\n",
       "      <td>33.29547928134572</td>\n",
       "      <td>51.75866823917421</td>\n",
       "      <td>0.0</td>\n",
       "      <td>512.3292</td>\n",
       "    </tr>\n",
       "    <tr>\n",
       "      <th>feature_2</th>\n",
       "      <td>1309</td>\n",
       "      <td>0.3850267379679144</td>\n",
       "      <td>0.8655602753495143</td>\n",
       "      <td>0</td>\n",
       "      <td>9</td>\n",
       "    </tr>\n",
       "    <tr>\n",
       "      <th>feature_3</th>\n",
       "      <td>1309</td>\n",
       "      <td>0.4988540870893812</td>\n",
       "      <td>1.0416583905961012</td>\n",
       "      <td>0</td>\n",
       "      <td>8</td>\n",
       "    </tr>\n",
       "    <tr>\n",
       "      <th>feature_6</th>\n",
       "      <td>1046</td>\n",
       "      <td>29.8811345124283</td>\n",
       "      <td>14.413499699923596</td>\n",
       "      <td>0.1667</td>\n",
       "      <td>80.0</td>\n",
       "    </tr>\n",
       "    <tr>\n",
       "      <th>feature_7</th>\n",
       "      <td>1309</td>\n",
       "      <td>2.294881588999236</td>\n",
       "      <td>0.8378360189701272</td>\n",
       "      <td>1</td>\n",
       "      <td>3</td>\n",
       "    </tr>\n",
       "    <tr>\n",
       "      <th>feature_9</th>\n",
       "      <td>1309</td>\n",
       "      <td>101.79412006638843</td>\n",
       "      <td>50.890853273921955</td>\n",
       "      <td>-93.97433274233103</td>\n",
       "      <td>264.6922898178428</td>\n",
       "    </tr>\n",
       "  </tbody>\n",
       "</table>\n",
       "</div>"
      ],
      "text/plain": [
       "                0                   1                    2  \\\n",
       "summary     count                mean               stddev   \n",
       "target_var   1309  0.3819709702062643  0.48605517086648325   \n",
       "feature_1    1308   33.29547928134572    51.75866823917421   \n",
       "feature_2    1309  0.3850267379679144   0.8655602753495143   \n",
       "feature_3    1309  0.4988540870893812   1.0416583905961012   \n",
       "feature_6    1046    29.8811345124283   14.413499699923596   \n",
       "feature_7    1309   2.294881588999236   0.8378360189701272   \n",
       "feature_9    1309  101.79412006638843   50.890853273921955   \n",
       "\n",
       "                             3                  4  \n",
       "summary                    min                max  \n",
       "target_var                   0                  1  \n",
       "feature_1                  0.0           512.3292  \n",
       "feature_2                    0                  9  \n",
       "feature_3                    0                  8  \n",
       "feature_6               0.1667               80.0  \n",
       "feature_7                    1                  3  \n",
       "feature_9   -93.97433274233103  264.6922898178428  "
      ]
     },
     "execution_count": 8,
     "metadata": {},
     "output_type": "execute_result"
    }
   ],
   "source": [
    "# Summary statistics\n",
    "raw_data.describe().toPandas().transpose()"
   ]
  },
  {
   "cell_type": "code",
   "execution_count": 9,
   "metadata": {
    "scrolled": true
   },
   "outputs": [
    {
     "name": "stdout",
     "output_type": "stream",
     "text": [
      "+----------+---------+---------+---------+----------+---------+---------+---------+---------+------------------+\n",
      "|target_var|feature_1|feature_2|feature_3| feature_4|feature_5|feature_6|feature_7|feature_8|         feature_9|\n",
      "+----------+---------+---------+---------+----------+---------+---------+---------+---------+------------------+\n",
      "|         1| 211.3375|        0|        0|bigollo-16|     blue|     29.0|        1|    sigma|112.87794148245936|\n",
      "|         1|   151.55|        2|        1| cantor-33|     pink|   0.9167|        1|    sigma|60.291423340617406|\n",
      "|         0|   151.55|        2|        1| cantor-33|     blue|      2.0|        1|    sigma|143.79410265574725|\n",
      "|         0|   151.55|        2|        1| cantor-33|     pink|     30.0|        1|    sigma|   131.27835242517|\n",
      "|         0|   151.55|        2|        1| cantor-33|     blue|     25.0|        1|    sigma|204.41571605575584|\n",
      "+----------+---------+---------+---------+----------+---------+---------+---------+---------+------------------+\n",
      "only showing top 5 rows\n",
      "\n"
     ]
    }
   ],
   "source": [
    "#Displaying the first five rows\n",
    "raw_data.show(5)"
   ]
  },
  {
   "cell_type": "code",
   "execution_count": 10,
   "metadata": {},
   "outputs": [
    {
     "name": "stdout",
     "output_type": "stream",
     "text": [
      "target_var: 2\n",
      "feature_1: 282\n",
      "feature_2: 8\n",
      "feature_3: 7\n",
      "feature_4: 182\n",
      "feature_5: 2\n",
      "feature_6: 99\n",
      "feature_7: 3\n",
      "feature_8: 4\n",
      "feature_9: 1309\n"
     ]
    }
   ],
   "source": [
    "#Print count of distinct values for all variables\n",
    "print('target_var:',raw_data.select('target_var').distinct().count())\n",
    "print('feature_1:',raw_data.select('feature_1').distinct().count())\n",
    "print('feature_2:',raw_data.select('feature_2').distinct().count())\n",
    "print('feature_3:',raw_data.select('feature_3').distinct().count())\n",
    "print('feature_4:',raw_data.select('feature_4').distinct().count())\n",
    "print('feature_5:',raw_data.select('feature_5').distinct().count())\n",
    "print('feature_6:',raw_data.select('feature_6').distinct().count())\n",
    "print('feature_7:',raw_data.select('feature_7').distinct().count())\n",
    "print('feature_8:',raw_data.select('feature_8').distinct().count())\n",
    "print('feature_9:',raw_data.select('feature_9').distinct().count())"
   ]
  },
  {
   "cell_type": "code",
   "execution_count": 11,
   "metadata": {},
   "outputs": [
    {
     "name": "stdout",
     "output_type": "stream",
     "text": [
      "+----------+\n",
      "|target_var|\n",
      "+----------+\n",
      "|         0|\n",
      "|         1|\n",
      "+----------+\n",
      "\n",
      "+---------+\n",
      "|feature_2|\n",
      "+---------+\n",
      "|        0|\n",
      "|        1|\n",
      "|        2|\n",
      "|        3|\n",
      "|        4|\n",
      "|        5|\n",
      "|        6|\n",
      "|        9|\n",
      "+---------+\n",
      "\n",
      "+---------+\n",
      "|feature_3|\n",
      "+---------+\n",
      "|        0|\n",
      "|        1|\n",
      "|        2|\n",
      "|        3|\n",
      "|        4|\n",
      "|        5|\n",
      "|        8|\n",
      "+---------+\n",
      "\n",
      "+---------+\n",
      "|feature_5|\n",
      "+---------+\n",
      "|     pink|\n",
      "|     blue|\n",
      "+---------+\n",
      "\n",
      "+---------+\n",
      "|feature_7|\n",
      "+---------+\n",
      "|        1|\n",
      "|        2|\n",
      "|        3|\n",
      "+---------+\n",
      "\n",
      "+---------+\n",
      "|feature_8|\n",
      "+---------+\n",
      "|     qoph|\n",
      "|    gamma|\n",
      "|    sigma|\n",
      "|         |\n",
      "+---------+\n",
      "\n"
     ]
    }
   ],
   "source": [
    "#Showing the distinct variables for each variable\n",
    "raw_data.select('target_var').distinct().show()\n",
    "raw_data.select('feature_2').distinct().show()\n",
    "raw_data.select('feature_3').distinct().show()\n",
    "raw_data.select('feature_5').distinct().show()\n",
    "raw_data.select('feature_7').distinct().show()\n",
    "raw_data.select('feature_8').distinct().show()"
   ]
  },
  {
   "cell_type": "code",
   "execution_count": 12,
   "metadata": {},
   "outputs": [],
   "source": [
    "#Switching to pandas dataframe to utilise the visualation packages\n",
    "pandasDF = raw_data.toPandas()"
   ]
  },
  {
   "cell_type": "code",
   "execution_count": 13,
   "metadata": {},
   "outputs": [
    {
     "data": {
      "text/plain": [
       "<matplotlib.text.Text at 0x7f2fb99aecc0>"
      ]
     },
     "execution_count": 13,
     "metadata": {},
     "output_type": "execute_result"
    },
    {
     "data": {
      "image/png": "[encoded data removed]",
      "text/plain": [
       "<matplotlib.figure.Figure at 0x7f2fb99cfeb8>"
      ]
     },
     "metadata": {},
     "output_type": "display_data"
    }
   ],
   "source": [
    "g=sns.countplot(x= 'feature_8',data = pandasDF, alpha=0.90)\n",
    "g=sns.countplot(x= 'feature_8',data = pandasDF, alpha=0.90)\n",
    "sns.set_color_codes(\"muted\")\n",
    "g.figure.set_size_inches(12,7)\n",
    "g.axes.set_title('Feature_8', fontsize = 28)"
   ]
  },
  {
   "cell_type": "code",
   "execution_count": 14,
   "metadata": {},
   "outputs": [
    {
     "data": {
      "text/plain": [
       "<matplotlib.text.Text at 0x7f2fb74fa518>"
      ]
     },
     "execution_count": 14,
     "metadata": {},
     "output_type": "execute_result"
    },
    {
     "data": {
      "image/png": "[encoded data removed]",
      "text/plain": [
       "<matplotlib.figure.Figure at 0x7f2fb99cfd68>"
      ]
     },
     "metadata": {},
     "output_type": "display_data"
    }
   ],
   "source": [
    "#Histogram distribution to inspect the presence of outliers\n",
    "bins = np.linspace(0, 120, 20)\n",
    "hist = sns.distplot(pandasDF.feature_9, bins=bins)\n",
    "sns.set_color_codes(\"muted\")\n",
    "hist.set_xlabel('feature_9', size = 16)\n",
    "hist.set_ylabel('Frequency', size = 16)\n",
    "hist.figure.set_size_inches(12,7)\n",
    "hist.axes.set_title('feature_9 distribution', fontsize = 28)"
   ]
  },
  {
   "cell_type": "markdown",
   "metadata": {},
   "source": [
    "As per the histogram distribution above there are no outliers"
   ]
  },
  {
   "cell_type": "code",
   "execution_count": 15,
   "metadata": {},
   "outputs": [
    {
     "data": {
      "text/plain": [
       "<matplotlib.text.Text at 0x7f2fb742ea90>"
      ]
     },
     "execution_count": 15,
     "metadata": {},
     "output_type": "execute_result"
    },
    {
     "data": {
      "image/png": "[encoded data removed]",
      "text/plain": [
       "<matplotlib.figure.Figure at 0x7f2fb7519f98>"
      ]
     },
     "metadata": {},
     "output_type": "display_data"
    }
   ],
   "source": [
    "gbarplt= sns.countplot(x= 'feature_8', hue = 'feature_5', data = pandasDF)\n",
    "sns.set_color_codes(\"muted\")\n",
    "gbarplt.figure.set_size_inches(12,7)\n",
    "gbarplt.axes.set_title('feature_5', fontsize = 28)"
   ]
  },
  {
   "cell_type": "code",
   "execution_count": 16,
   "metadata": {
    "scrolled": true
   },
   "outputs": [
    {
     "data": {
      "image/png": "[encoded data removed]",
      "text/plain": [
       "<matplotlib.figure.Figure at 0x7f2fb74e3da0>"
      ]
     },
     "metadata": {},
     "output_type": "display_data"
    }
   ],
   "source": [
    "#Which hospital had most appointments\n",
    "wordcloud = WordCloud(background_color = 'white', width = 1000, height = 500, collocations=True, random_state=42).generate(str(pandasDF['feature_4']))\n",
    "plt.figure(figsize=(10,5))\n",
    "plt.imshow(wordcloud, interpolation = 'bilinear')\n",
    "plt.tight_layout(pad=0)\n",
    "plt.axis('off')\n",
    "plt.show()"
   ]
  },
  {
   "cell_type": "markdown",
   "metadata": {},
   "source": [
    "The word cantor occured the most in variabe feature_4. However, this is not calculating accurately, further calculations are needed to get it working."
   ]
  },
  {
   "cell_type": "code",
   "execution_count": 17,
   "metadata": {},
   "outputs": [
    {
     "data": {
      "text/plain": [
       "<matplotlib.text.Text at 0x7f2fb7337c50>"
      ]
     },
     "execution_count": 17,
     "metadata": {},
     "output_type": "execute_result"
    },
    {
     "data": {
      "image/png": "[encoded data removed]",
      "text/plain": [
       "<matplotlib.figure.Figure at 0x7f2fb73ad5c0>"
      ]
     },
     "metadata": {},
     "output_type": "display_data"
    }
   ],
   "source": [
    "#Relationship between variables\n",
    "correlation = pandasDF.corr()\n",
    "plt.figure(figsize = (10,10))\n",
    "corr = sns.heatmap(correlation, vmax=1, square=True, annot=True,cmap='cubehelix')\n",
    "corr.figure.set_size_inches(15,10)\n",
    "plt.title(\"Correlation between variables\", size = 28)"
   ]
  },
  {
   "cell_type": "markdown",
   "metadata": {},
   "source": [
    "Overall this problem does not present us with highly correlated variables. We will keep all variables for model building"
   ]
  },
  {
   "cell_type": "markdown",
   "metadata": {},
   "source": [
    "### Data Validation"
   ]
  },
  {
   "cell_type": "code",
   "execution_count": 18,
   "metadata": {},
   "outputs": [
    {
     "name": "stdout",
     "output_type": "stream",
     "text": [
      "+----------+---------+---------+---------+---------+---------+---------+---------+---------+---------+\n",
      "|target_var|feature_1|feature_2|feature_3|feature_4|feature_5|feature_6|feature_7|feature_8|feature_9|\n",
      "+----------+---------+---------+---------+---------+---------+---------+---------+---------+---------+\n",
      "|         0|        1|        0|        0|        0|        0|      263|        0|        0|        0|\n",
      "+----------+---------+---------+---------+---------+---------+---------+---------+---------+---------+\n",
      "\n"
     ]
    }
   ],
   "source": [
    "#Showing count of missing values for each variable\n",
    "raw_data.select([count(when(isnan(c) | col(c).isNull(), c)).alias(c) for c in raw_data.columns]).show()"
   ]
  },
  {
   "cell_type": "markdown",
   "metadata": {},
   "source": [
    "## 4.Pre-Process"
   ]
  },
  {
   "cell_type": "markdown",
   "metadata": {},
   "source": [
    "### 4.1 Imputing missing values"
   ]
  },
  {
   "cell_type": "markdown",
   "metadata": {},
   "source": [
    "Since we cannot make any assumptions with the underlying data source or do no have the domain knowledge, we will opt to drop the missing values as oppossesd to imputing them with either the mean, mode, median, logistic regression or linear regression where applicable."
   ]
  },
  {
   "cell_type": "markdown",
   "metadata": {},
   "source": [
    "### 4.2 Removing missing values"
   ]
  },
  {
   "cell_type": "code",
   "execution_count": 19,
   "metadata": {},
   "outputs": [],
   "source": [
    "#dropping missing values\n",
    "clean_data = raw_data.na.drop()"
   ]
  },
  {
   "cell_type": "markdown",
   "metadata": {},
   "source": [
    "We can see that the number of rows has now reduced from 1309  to 1045"
   ]
  },
  {
   "cell_type": "code",
   "execution_count": 20,
   "metadata": {},
   "outputs": [
    {
     "data": {
      "text/plain": [
       "1045"
      ]
     },
     "execution_count": 20,
     "metadata": {},
     "output_type": "execute_result"
    }
   ],
   "source": [
    "# Veryfying if missing values where removed successfully\n",
    "clean_data.count()"
   ]
  },
  {
   "cell_type": "code",
   "execution_count": 21,
   "metadata": {},
   "outputs": [],
   "source": [
    "#Preparing the model building data using pandas\n",
    "mb = clean_data.toPandas()"
   ]
  },
  {
   "cell_type": "markdown",
   "metadata": {},
   "source": [
    "# 5. Model Building"
   ]
  },
  {
   "cell_type": "markdown",
   "metadata": {},
   "source": [
    "## 5.1 Naive Bayes (NB)"
   ]
  },
  {
   "cell_type": "code",
   "execution_count": 22,
   "metadata": {
    "collapsed": true
   },
   "outputs": [],
   "source": [
    "from sklearn.naive_bayes import GaussianNB\n",
    "from sklearn import preprocessing\n",
    "from sklearn.metrics import accuracy_score\n",
    "from sklearn.cross_validation import train_test_split"
   ]
  },
  {
   "cell_type": "markdown",
   "metadata": {},
   "source": [
    "#### 5.1.1 Organizing DataSets"
   ]
  },
  {
   "cell_type": "code",
   "execution_count": 23,
   "metadata": {},
   "outputs": [],
   "source": [
    "# Label encoder\n",
    "le = preprocessing.LabelEncoder()\n",
    "\n",
    "for i in range(0,mb.shape[1]):\n",
    "    if mb.dtypes[i]=='object':\n",
    "        mb[mb.columns[i]] = le.fit_transform(mb[mb.columns[i]])"
   ]
  },
  {
   "cell_type": "code",
   "execution_count": 24,
   "metadata": {},
   "outputs": [],
   "source": [
    "#Split the data into training and test sets\n",
    "X = mb.ix[:,(1,2,3,4,5,6,7,8,9)]\n",
    "y = mb.ix[:,0]\n",
    "X_train, X_test, y_train, y_test = train_test_split(X, y, test_size = .25, random_state = 42) "
   ]
  },
  {
   "cell_type": "code",
   "execution_count": 25,
   "metadata": {},
   "outputs": [],
   "source": [
    "# Initialize our classifier\n",
    "gnb = GaussianNB()\n",
    "# Train our classifier\n",
    "model = gnb.fit(X_train, y_train)"
   ]
  },
  {
   "cell_type": "markdown",
   "metadata": {},
   "source": [
    "### 5.1.2 Building and Evaluating the Model"
   ]
  },
  {
   "cell_type": "code",
   "execution_count": 26,
   "metadata": {},
   "outputs": [
    {
     "name": "stdout",
     "output_type": "stream",
     "text": [
      "[0 1 0 0 1 0 0 1 0 0 1 0 0 1 1 0 0 0 1 0 0 1 1 1 1 0 1 0 0 0 0 0 1 0 1 0 1\n",
      " 1 1 0 0 1 1 0 1 0 1 1 0 1 0 0 0 0 0 0 0 0 0 0 0 1 0 0 0 0 1 1 0 0 0 1 1 0\n",
      " 0 0 1 0 1 1 1 1 1 0 0 0 0 0 0 0 0 1 1 0 0 0 1 1 1 0 1 0 0 1 1 1 1 0 1 1 1\n",
      " 1 1 0 1 0 1 0 0 0 0 0 0 1 0 0 0 1 1 1 0 0 0 0 1 0 0 0 1 1 0 1 0 0 0 1 1 0\n",
      " 0 1 0 0 1 0 0 1 0 1 1 1 1 0 1 0 0 0 1 0 1 0 1 0 0 0 1 0 1 0 0 0 0 0 0 0 1\n",
      " 0 1 1 0 1 0 1 1 0 0 0 1 0 0 1 0 0 0 0 1 1 0 0 0 0 1 0 1 0 0 0 0 1 0 0 0 0\n",
      " 0 0 1 0 0 0 1 0 0 0 0 1 1 0 1 0 0 0 1 0 1 0 0 1 1 0 0 0 0 1 0 1 0 0 1 1 1\n",
      " 1 1 1]\n"
     ]
    }
   ],
   "source": [
    "# Make predictions\n",
    "target_var_pred = gnb.predict(X_test)\n",
    "print(target_var_pred)"
   ]
  },
  {
   "cell_type": "code",
   "execution_count": 27,
   "metadata": {},
   "outputs": [],
   "source": [
    "# Place the predictions of the test data in a Pandas data frame\n",
    "nb_df_with_answers = pd.DataFrame({'target_var_pred': target_var_pred, 'target_var_true':y_test.values})"
   ]
  },
  {
   "cell_type": "code",
   "execution_count": 28,
   "metadata": {},
   "outputs": [
    {
     "data": {
      "text/html": [
       "<div>\n",
       "<table border=\"1\" class=\"dataframe\">\n",
       "  <thead>\n",
       "    <tr style=\"text-align: right;\">\n",
       "      <th></th>\n",
       "      <th>target_var_pred</th>\n",
       "      <th>target_var_true</th>\n",
       "    </tr>\n",
       "  </thead>\n",
       "  <tbody>\n",
       "    <tr>\n",
       "      <th>0</th>\n",
       "      <td>0</td>\n",
       "      <td>1</td>\n",
       "    </tr>\n",
       "    <tr>\n",
       "      <th>1</th>\n",
       "      <td>1</td>\n",
       "      <td>1</td>\n",
       "    </tr>\n",
       "    <tr>\n",
       "      <th>2</th>\n",
       "      <td>0</td>\n",
       "      <td>0</td>\n",
       "    </tr>\n",
       "    <tr>\n",
       "      <th>3</th>\n",
       "      <td>0</td>\n",
       "      <td>0</td>\n",
       "    </tr>\n",
       "    <tr>\n",
       "      <th>4</th>\n",
       "      <td>1</td>\n",
       "      <td>1</td>\n",
       "    </tr>\n",
       "  </tbody>\n",
       "</table>\n",
       "</div>"
      ],
      "text/plain": [
       "   target_var_pred  target_var_true\n",
       "0                0                1\n",
       "1                1                1\n",
       "2                0                0\n",
       "3                0                0\n",
       "4                1                1"
      ]
     },
     "execution_count": 28,
     "metadata": {},
     "output_type": "execute_result"
    }
   ],
   "source": [
    "# Sanity check\n",
    "nb_df_with_answers.head()"
   ]
  },
  {
   "cell_type": "code",
   "execution_count": 29,
   "metadata": {},
   "outputs": [],
   "source": [
    "# Now get indexes for the all predictions made \n",
    "# Only the ones that cost the company a lot of money\n",
    "# Get the incorrect ones versus the correct predictions\n",
    "\n",
    "nb_df_with_answers_ = nb_df_with_answers.copy()\n",
    "no_loss = []\n",
    "loss_R1000 = []\n",
    "loss_R20000 = []\n",
    "index_1 = []\n",
    "index_2 = [] \n",
    "index_3 = [] \n",
    "\n",
    "# loop over all test indices\n",
    "for i in range(len(y_test.values)):\n",
    "    # This loops over all predictions that are \"Correct\"\n",
    "    if int(nb_df_with_answers_.target_var_true[i]) == int(nb_df_with_answers_.target_var_pred[i]):\n",
    "            no_loss.append(\"no_loss\") \n",
    "            index_1.append(i)\n",
    "    \n",
    "    # This following \"else if\" and else loop over all predictions that are \"Incorrect\"        \n",
    "    elif int(nb_df_with_answers_.target_var_true[i]) == 1 and int(nb_df_with_answers_.target_var_pred[i]) == 0:\n",
    "            loss_R20000.append(\"lost_R20000\") \n",
    "            index_2.append(i) \n",
    "    else:\n",
    "            loss_R1000.append(\"lost_R1000\") \n",
    "            index_3.append(i)\n",
    "# Save corresponding indices to placeholder arrays            \n",
    "index_1 = np.array(index_1)\n",
    "index_2 = np.array(index_2)\n",
    "index_3 = np.array(index_3)"
   ]
  },
  {
   "cell_type": "code",
   "execution_count": 30,
   "metadata": {
    "collapsed": true
   },
   "outputs": [],
   "source": [
    "# Create a placeholder for the types of predictions made\n",
    "# in terms of string format, the way it defined allows saving strings of different lengths\n",
    "# in respective rows/entries. \n",
    "arr = np.array(np.zeros(len(y_test.values)), str) \n",
    "\n",
    "arr[index_1] = np.array(no_loss)\n",
    "arr[index_2] = np.array(loss_R20000)\n",
    "arr[index_3] = np.array(loss_R1000)\n",
    "\n",
    "# Add a new column to our answers dataframe\n",
    "nb_df_with_answers_['cost'] = arr"
   ]
  },
  {
   "cell_type": "code",
   "execution_count": 31,
   "metadata": {},
   "outputs": [
    {
     "data": {
      "text/html": [
       "<div>\n",
       "<table border=\"1\" class=\"dataframe\">\n",
       "  <thead>\n",
       "    <tr style=\"text-align: right;\">\n",
       "      <th></th>\n",
       "      <th>target_var_pred</th>\n",
       "      <th>target_var_true</th>\n",
       "      <th>cost</th>\n",
       "    </tr>\n",
       "  </thead>\n",
       "  <tbody>\n",
       "    <tr>\n",
       "      <th>0</th>\n",
       "      <td>0</td>\n",
       "      <td>1</td>\n",
       "      <td>lost_R20000</td>\n",
       "    </tr>\n",
       "    <tr>\n",
       "      <th>1</th>\n",
       "      <td>1</td>\n",
       "      <td>1</td>\n",
       "      <td>no_loss</td>\n",
       "    </tr>\n",
       "    <tr>\n",
       "      <th>2</th>\n",
       "      <td>0</td>\n",
       "      <td>0</td>\n",
       "      <td>no_loss</td>\n",
       "    </tr>\n",
       "    <tr>\n",
       "      <th>3</th>\n",
       "      <td>0</td>\n",
       "      <td>0</td>\n",
       "      <td>no_loss</td>\n",
       "    </tr>\n",
       "    <tr>\n",
       "      <th>4</th>\n",
       "      <td>1</td>\n",
       "      <td>1</td>\n",
       "      <td>no_loss</td>\n",
       "    </tr>\n",
       "    <tr>\n",
       "      <th>5</th>\n",
       "      <td>0</td>\n",
       "      <td>0</td>\n",
       "      <td>no_loss</td>\n",
       "    </tr>\n",
       "    <tr>\n",
       "      <th>6</th>\n",
       "      <td>0</td>\n",
       "      <td>0</td>\n",
       "      <td>no_loss</td>\n",
       "    </tr>\n",
       "    <tr>\n",
       "      <th>7</th>\n",
       "      <td>1</td>\n",
       "      <td>1</td>\n",
       "      <td>no_loss</td>\n",
       "    </tr>\n",
       "    <tr>\n",
       "      <th>8</th>\n",
       "      <td>0</td>\n",
       "      <td>0</td>\n",
       "      <td>no_loss</td>\n",
       "    </tr>\n",
       "    <tr>\n",
       "      <th>9</th>\n",
       "      <td>0</td>\n",
       "      <td>1</td>\n",
       "      <td>lost_R20000</td>\n",
       "    </tr>\n",
       "  </tbody>\n",
       "</table>\n",
       "</div>"
      ],
      "text/plain": [
       "   target_var_pred  target_var_true         cost\n",
       "0                0                1  lost_R20000\n",
       "1                1                1      no_loss\n",
       "2                0                0      no_loss\n",
       "3                0                0      no_loss\n",
       "4                1                1      no_loss\n",
       "5                0                0      no_loss\n",
       "6                0                0      no_loss\n",
       "7                1                1      no_loss\n",
       "8                0                0      no_loss\n",
       "9                0                1  lost_R20000"
      ]
     },
     "execution_count": 31,
     "metadata": {},
     "output_type": "execute_result"
    }
   ],
   "source": [
    "# 21. Sanity check?\n",
    "nb_df_with_answers_.head(10)"
   ]
  },
  {
   "cell_type": "code",
   "execution_count": 32,
   "metadata": {},
   "outputs": [
    {
     "data": {
      "text/plain": [
       "no_loss        205\n",
       "lost_R20000     32\n",
       "lost_R1000      25\n",
       "Name: cost, dtype: int64"
      ]
     },
     "execution_count": 32,
     "metadata": {},
     "output_type": "execute_result"
    }
   ],
   "source": [
    "nb_df_with_answers_.cost.value_counts()"
   ]
  },
  {
   "cell_type": "markdown",
   "metadata": {},
   "source": [
    "### 5.1.3 Evaluating the Model's Accuracy"
   ]
  },
  {
   "cell_type": "code",
   "execution_count": 33,
   "metadata": {},
   "outputs": [
    {
     "name": "stdout",
     "output_type": "stream",
     "text": [
      "0.782442748092\n"
     ]
    }
   ],
   "source": [
    "# Evaluate accuracy\n",
    "print(accuracy_score(y_test, target_var_pred))"
   ]
  },
  {
   "cell_type": "markdown",
   "metadata": {},
   "source": [
    "## 5.2 Logistic Regression"
   ]
  },
  {
   "cell_type": "code",
   "execution_count": 34,
   "metadata": {
    "collapsed": true
   },
   "outputs": [],
   "source": [
    "from sklearn.linear_model import LogisticRegression\n",
    "from sklearn.metrics import confusion_matrix\n",
    "from sklearn.metrics import classification_report"
   ]
  },
  {
   "cell_type": "markdown",
   "metadata": {},
   "source": [
    "### 5.2.1 Organizing DataSets"
   ]
  },
  {
   "cell_type": "code",
   "execution_count": 35,
   "metadata": {
    "scrolled": true
   },
   "outputs": [],
   "source": [
    "#Split the data into training and test sets\n",
    "X = mb.ix[:,(1,2,3,4,5,6,7,8,9)]\n",
    "y = mb.ix[:,0]\n",
    "X_train, X_test, y_train, y_test = train_test_split(X, y, test_size = .25, random_state = 42) \n",
    "#so that 30% will be selected for testing data randoml"
   ]
  },
  {
   "cell_type": "code",
   "execution_count": 36,
   "metadata": {},
   "outputs": [
    {
     "data": {
      "text/plain": [
       "LogisticRegression(C=1.0, class_weight=None, dual=False, fit_intercept=True,\n",
       "          intercept_scaling=1, max_iter=100, multi_class='ovr', n_jobs=1,\n",
       "          penalty='l2', random_state=None, solver='liblinear', tol=0.0001,\n",
       "          verbose=0, warm_start=False)"
      ]
     },
     "execution_count": 36,
     "metadata": {},
     "output_type": "execute_result"
    }
   ],
   "source": [
    "LogReg = LogisticRegression()\n",
    "LogReg.fit(X_train, y_train)"
   ]
  },
  {
   "cell_type": "markdown",
   "metadata": {},
   "source": [
    "### 5.1.2 Building and Evaluating the Model"
   ]
  },
  {
   "cell_type": "code",
   "execution_count": 37,
   "metadata": {},
   "outputs": [
    {
     "data": {
      "text/plain": [
       "array([[122,  29],\n",
       "       [ 39,  72]])"
      ]
     },
     "execution_count": 37,
     "metadata": {},
     "output_type": "execute_result"
    }
   ],
   "source": [
    "y_pred = LogReg.predict(X_test)\n",
    "confusion_matrix  = confusion_matrix(y_test, y_pred)\n",
    "confusion_matrix"
   ]
  },
  {
   "cell_type": "markdown",
   "metadata": {
    "collapsed": true
   },
   "source": [
    "Results reveals that we have 122 + 39 correct predictions and 29 + 72 incorrect predictions\n"
   ]
  },
  {
   "cell_type": "markdown",
   "metadata": {},
   "source": [
    "### 5.1.3 Evaluating the Model's Accuracy"
   ]
  },
  {
   "cell_type": "code",
   "execution_count": 38,
   "metadata": {},
   "outputs": [
    {
     "name": "stdout",
     "output_type": "stream",
     "text": [
      "Accuracy of the logistic regression classifier on the test set: 0.74\n"
     ]
    }
   ],
   "source": [
    "#Accuracy\n",
    "print('Accuracy of the logistic regression classifier on the test set: {:.2f}'.format(LogReg.score(X_test, y_test)))"
   ]
  },
  {
   "cell_type": "code",
   "execution_count": 39,
   "metadata": {},
   "outputs": [
    {
     "name": "stdout",
     "output_type": "stream",
     "text": [
      "             precision    recall  f1-score   support\n",
      "\n",
      "          0       0.76      0.81      0.78       151\n",
      "          1       0.71      0.65      0.68       111\n",
      "\n",
      "avg / total       0.74      0.74      0.74       262\n",
      "\n"
     ]
    }
   ],
   "source": [
    "print(classification_report(y_test, y_pred))"
   ]
  },
  {
   "cell_type": "markdown",
   "metadata": {},
   "source": [
    "# 6. Executive Summary"
   ]
  },
  {
   "cell_type": "markdown",
   "metadata": {},
   "source": [
    "The Naive Bayes model better than the logistic regression model. As you see in the output, the NB classifier is 78.24% accurate and the Logistic Regression is 74.00% accurate. \n",
    "This means that 77.51 percent of the time the classifier is able to make the correct prediction as to whether the company will lose R20000 or R1000. These results suggest that our feature set of 9 attributes are good indicators of target_var. "
   ]
  },
  {
   "cell_type": "code",
   "execution_count": null,
   "metadata": {
    "collapsed": true
   },
   "outputs": [],
   "source": []
  }
 ],
 "metadata": {
  "kernelspec": {
   "display_name": "Python 3",
   "language": "python",
   "name": "python3"
  },
  "language_info": {
   "codemirror_mode": {
    "name": "ipython",
    "version": 3
   },
   "file_extension": ".py",
   "mimetype": "text/x-python",
   "name": "python",
   "nbconvert_exporter": "python",
   "pygments_lexer": "ipython3",
   "version": "3.6.3"
  }
 },
 "nbformat": 4,
 "nbformat_minor": 2
}
